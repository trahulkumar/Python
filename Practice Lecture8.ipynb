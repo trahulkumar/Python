{
 "cells": [
  {
   "cell_type": "markdown",
   "metadata": {},
   "source": [
    "# OPIM 5894 Lecture 8. Mathematical Statistics\n",
    "Jing Peng <br>\n",
    "UConn School of Business <br>\n",
    "October 19, 2017 <br>"
   ]
  },
  {
   "cell_type": "code",
   "execution_count": 17,
   "metadata": {
    "collapsed": true
   },
   "outputs": [],
   "source": [
    "import numpy as np\n",
    "import scipy.stats\n",
    "import matplotlib\n",
    "import matplotlib.pyplot as plt\n",
    "matplotlib.style.use('ggplot')\n",
    "# use the code below to make sure plot is shown in Notebook\n",
    "%matplotlib inline "
   ]
  },
  {
   "cell_type": "markdown",
   "metadata": {},
   "source": [
    "# Bias of Estimator"
   ]
  },
  {
   "cell_type": "code",
   "execution_count": 26,
   "metadata": {},
   "outputs": [
    {
     "data": {
      "text/plain": [
       "0.9025486687239862"
      ]
     },
     "execution_count": 26,
     "metadata": {},
     "output_type": "execute_result"
    }
   ],
   "source": [
    "nsim = 10000 # number of simulations\n",
    "n = 10 # number of obs in one sample\n",
    "var = [np.random.normal(loc=0, scale=1, size=10).var() for i in range(nsim)]\n",
    "np.mean(var)"
   ]
  },
  {
   "cell_type": "code",
   "execution_count": 20,
   "metadata": {},
   "outputs": [
    {
     "data": {
      "text/plain": [
       "[0.4012718008043521,\n",
       " 0.56214318981517308,\n",
       " 0.62383880131479985,\n",
       " 0.44688992142492906,\n",
       " 0.78129494641250186,\n",
       " 1.3638800143841348,\n",
       " 0.3803782055862644,\n",
       " 0.5970577482751831,\n",
       " 1.1265690796152235,\n",
       " 0.88223778372778328,\n",
       " 0.5172531491496084,\n",
       " 1.0783459441919585,\n",
       " 1.0971965094647065,\n",
       " 0.59743897550214187,\n",
       " 0.87719755774192498,\n",
       " 0.5474815058877166,\n",
       " 0.054250718997689004,\n",
       " 0.47895577536672107,\n",
       " 1.4377735093663719,\n",
       " 1.552071751926511]"
      ]
     },
     "execution_count": 20,
     "metadata": {},
     "output_type": "execute_result"
    }
   ],
   "source": [
    "var[:20]"
   ]
  },
  {
   "cell_type": "code",
   "execution_count": 27,
   "metadata": {},
   "outputs": [
    {
     "data": {
      "text/plain": [
       "1.0028318541377625"
      ]
     },
     "execution_count": 27,
     "metadata": {},
     "output_type": "execute_result"
    }
   ],
   "source": [
    "np.mean(var)*n/(n-1)"
   ]
  },
  {
   "cell_type": "code",
   "execution_count": 28,
   "metadata": {},
   "outputs": [
    {
     "data": {
      "text/plain": [
       "1.0072972789956143"
      ]
     },
     "execution_count": 28,
     "metadata": {},
     "output_type": "execute_result"
    }
   ],
   "source": [
    "var = [np.random.normal(loc=0, scale=1, size=10).var(ddof=1) for i in range(nsim)]\n",
    "np.mean(var)"
   ]
  },
  {
   "cell_type": "code",
   "execution_count": null,
   "metadata": {
    "collapsed": true
   },
   "outputs": [],
   "source": []
  },
  {
   "cell_type": "markdown",
   "metadata": {},
   "source": [
    "# Comparison of Two Estimators"
   ]
  },
  {
   "cell_type": "code",
   "execution_count": 48,
   "metadata": {},
   "outputs": [
    {
     "name": "stdout",
     "output_type": "stream",
     "text": [
      "theta1:  -1.33590081828 , theta2:  -0.322899611879\n",
      "Variance of theta1:  0.0 , variance of theta2:  0.0\n"
     ]
    }
   ],
   "source": [
    "nsim = 1 # number of simulations\n",
    "n = 100 # sample size\n",
    "theta1 = [None] * nsim\n",
    "theta2 = [None] * nsim\n",
    "for i in range(nsim):\n",
    "    x = np.random.normal(loc=0, scale=1, size=10)\n",
    "    # estimator one use the first sample, estimator two use the mean of the sample\n",
    "    theta1[i] = x[0]\n",
    "    theta2[i]= np.mean(x)\n",
    "print('theta1: ', np.mean(theta1), \", theta2: \", np.mean(theta2))\n",
    "print('Variance of theta1: ', np.var(theta1), \", variance of theta2: \", np.var(theta2))"
   ]
  },
  {
   "cell_type": "code",
   "execution_count": 50,
   "metadata": {},
   "outputs": [
    {
     "data": {
      "text/plain": [
       "([-1.3359008182814773], [-0.32289961187918353])"
      ]
     },
     "execution_count": 50,
     "metadata": {},
     "output_type": "execute_result"
    }
   ],
   "source": [
    "theta1,theta2"
   ]
  },
  {
   "cell_type": "code",
   "execution_count": 45,
   "metadata": {},
   "outputs": [
    {
     "data": {
      "text/plain": [
       "[0.027967800261874287]"
      ]
     },
     "execution_count": 45,
     "metadata": {},
     "output_type": "execute_result"
    }
   ],
   "source": []
  },
  {
   "cell_type": "markdown",
   "metadata": {},
   "source": [
    "# Illustration of Central Limit Theorem"
   ]
  },
  {
   "cell_type": "code",
   "execution_count": null,
   "metadata": {
    "collapsed": true
   },
   "outputs": [],
   "source": [
    "np.random.binomial(n=1,p=0.5,size=n_var)"
   ]
  },
  {
   "cell_type": "code",
   "execution_count": 64,
   "metadata": {},
   "outputs": [
    {
     "data": {
      "image/png": "[encoded data removed]",
      "text/plain": [
       "<matplotlib.figure.Figure at 0x199552487b8>"
      ]
     },
     "metadata": {},
     "output_type": "display_data"
    }
   ],
   "source": [
    "# When n_var=1, y is the same as the original distribution\n",
    "nsim = 10000\n",
    "n_var = 5\n",
    "y = []\n",
    "for i in range(nsim):\n",
    "#     xi = np.random.binomial(n=1,p=0.8,size=n_var)\n",
    "    xi = np.random.uniform(low=0, high=1, size=n_var)\n",
    "#     xi = np.random.poisson(lam=1, size=n_var)\n",
    "#     xi = np.random.exponential(scale=1, size=n_var)\n",
    "    yi = np.mean(xi)\n",
    "    y.append(yi)\n",
    "    \n",
    "plt.hist(np.array(y), bins=100)\n",
    "plt.show()"
   ]
  },
  {
   "cell_type": "code",
   "execution_count": null,
   "metadata": {
    "collapsed": true
   },
   "outputs": [],
   "source": [
    "# An alternative way to show asymptoic properties of binomial\n",
    "plt.hist(np.random.binomial(n=100,p=0.8,size=10000), bins=100)\n",
    "plt.show()"
   ]
  },
  {
   "cell_type": "markdown",
   "metadata": {},
   "source": [
    "# Interval Estimator"
   ]
  },
  {
   "cell_type": "markdown",
   "metadata": {},
   "source": [
    "## Assuming Variance is Known"
   ]
  },
  {
   "cell_type": "code",
   "execution_count": 72,
   "metadata": {},
   "outputs": [
    {
     "data": {
      "text/plain": [
       "0.95350000000000001"
      ]
     },
     "execution_count": 72,
     "metadata": {},
     "output_type": "execute_result"
    }
   ],
   "source": [
    "nsim = 10000 # number of simulations\n",
    "n = 10 # number of obs in one sample\n",
    "mu = 100\n",
    "is_covered = [None] * nsim\n",
    "for i in range(nsim):\n",
    "    x = np.random.normal(loc=mu, scale=1, size=10)\n",
    "    m = np.mean(x)\n",
    "    lci = m - 1.96/np.sqrt(n)\n",
    "    uci = m + 1.96/np.sqrt(n)\n",
    "    is_covered[i] = lci<=mu<=uci\n",
    "np.mean(is_covered)"
   ]
  },
  {
   "cell_type": "code",
   "execution_count": 73,
   "metadata": {},
   "outputs": [
    {
     "data": {
      "text/plain": [
       "1.959963984540054"
      ]
     },
     "execution_count": 73,
     "metadata": {},
     "output_type": "execute_result"
    }
   ],
   "source": [
    "scipy.stats.norm.ppf(0.975)"
   ]
  },
  {
   "cell_type": "markdown",
   "metadata": {},
   "source": [
    "## Variance is Unknown"
   ]
  },
  {
   "cell_type": "code",
   "execution_count": null,
   "metadata": {
    "collapsed": true
   },
   "outputs": [],
   "source": [
    "scipy.stats.t(df=n-1).ppf(0.975)"
   ]
  },
  {
   "cell_type": "code",
   "execution_count": 15,
   "metadata": {},
   "outputs": [
    {
     "data": {
      "text/plain": [
       "0.9163"
      ]
     },
     "execution_count": 15,
     "metadata": {},
     "output_type": "execute_result"
    }
   ],
   "source": [
    "nsim = 10000 # number of simulations\n",
    "n = 10 # number of obs in one sample\n",
    "mu = 0\n",
    "thd = 1.96\n",
    "is_covered = [None] * nsim\n",
    "for i in range(nsim):\n",
    "    x = np.random.normal(loc=mu, scale=1, size=10)\n",
    "    m = np.mean(x)\n",
    "    s = np.var(x, ddof=1)\n",
    "    # construct the t-test statistics\n",
    "    T = np.sqrt(n) * m/np.sqrt(s)\n",
    "    is_covered[i] = -thd<=T<=thd\n",
    "np.mean(is_covered)"
   ]
  },
  {
   "cell_type": "code",
   "execution_count": 16,
   "metadata": {},
   "outputs": [
    {
     "data": {
      "text/plain": [
       "0.91835559453958338"
      ]
     },
     "execution_count": 16,
     "metadata": {},
     "output_type": "execute_result"
    }
   ],
   "source": [
    "scipy.stats.t(df=n-1).cdf(1.96) - scipy.stats.t(df=n-1).cdf(-1.96)"
   ]
  }
 ],
 "metadata": {
  "kernelspec": {
   "display_name": "Python 3",
   "language": "python",
   "name": "python3"
  },
  "language_info": {
   "codemirror_mode": {
    "name": "ipython",
    "version": 3
   },
   "file_extension": ".py",
   "mimetype": "text/x-python",
   "name": "python",
   "nbconvert_exporter": "python",
   "pygments_lexer": "ipython3",
   "version": "3.6.1"
  }
 },
 "nbformat": 4,
 "nbformat_minor": 2
}
